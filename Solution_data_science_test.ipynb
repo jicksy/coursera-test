{
  "nbformat": 4,
  "nbformat_minor": 0,
  "metadata": {
    "colab": {
      "name": "Solution_data_science_test.ipynb",
      "provenance": [],
      "collapsed_sections": [],
      "toc_visible": true,
      "mount_file_id": "1qZ0vRReL44Mmw04pygXwZl_RG-eQ7Fjl",
      "authorship_tag": "ABX9TyP+XbXIt6Me7Xn0oZzUCf3d",
      "include_colab_link": true
    },
    "kernelspec": {
      "name": "python3",
      "display_name": "Python 3"
    }
  },
  "cells": [
    {
      "cell_type": "markdown",
      "metadata": {
        "id": "view-in-github",
        "colab_type": "text"
      },
      "source": [
        "<a href=\"https://colab.research.google.com/github/jicksy/coursera-test/blob/master/Solution_data_science_test.ipynb\" target=\"_parent\"><img src=\"https://colab.research.google.com/assets/colab-badge.svg\" alt=\"Open In Colab\"/></a>"
      ]
    },
    {
      "cell_type": "markdown",
      "metadata": {
        "id": "gQgMvbuPn7D-",
        "colab_type": "text"
      },
      "source": [
        "## TA DS Test"
      ]
    },
    {
      "cell_type": "markdown",
      "metadata": {
        "id": "gcRuizuVirvL",
        "colab_type": "text"
      },
      "source": [
        "## Data\n",
        "\n",
        "You are provided with two sample data sets\n",
        "\n",
        "- `events.csv.gz` - A sample of events collected from an online travel agency, containing:\n",
        "  * `ts` - the timestamp of the event\n",
        "  * `event_type` - either `search` for searches made on the site, or `book` for a conversion, e.g. the user books the flight\n",
        "  * `user_id` - unique identifier of a user\n",
        "  * `date_from` - desired start date of the journey\n",
        "  * `date_to` - desired end date of the journey\n",
        "  * `origin` - IATA airport code of the origin airport\n",
        "  * `destination` - IATA airport code of the destination airport\n",
        "  * `num_adults` - number of adults\n",
        "  * `num_children` - number of children\n",
        "\n",
        "- `iata.csv` - containing geo-coordinates of major airports\n",
        "  * `iata_code` - IATA code of the airport\n",
        "  * `lat` - latitude in floating point format\n",
        "  * `lon` - longitude in floating point format\n",
        "\n",
        "\n",
        "**Data Preparation**\n",
        "* Rows with null and duplicate values are dropped\n",
        "* Output column:`event_type` is changed to numeric\n",
        "* The geographic distance between origins and destinations is calculated using haversine formula. \n",
        "* Length of Stay and Time to Travel is calculated.\n",
        "* Origin and Destination Columns are label encoded\n",
        "\n",
        "**Feature Engineering**\n",
        "* Distance, Length of Stay (LOS) and Time To Travel (TTT) could be important features. \n",
        "\n",
        "**Experimental design**\n",
        "* Data is split into train and test set\n",
        "\n",
        "**Model**\n",
        "* I have chosen lightgbm classifier as my model. I am able to achieve around 60% AUC on test data. \n",
        "\n",
        "\n",
        "**How to run the model**\n",
        "* Running the following cell will invoke the main method, and will train and evaluate the model on test data. \n",
        "* Please make sure to have the given events data set, and iata dataset in the same directory you are running the below code from."
      ]
    },
    {
      "cell_type": "markdown",
      "metadata": {
        "id": "WShtBG8La9VD",
        "colab_type": "text"
      },
      "source": [
        "## The code"
      ]
    },
    {
      "cell_type": "code",
      "metadata": {
        "id": "SlMwUfTlKsKB",
        "colab_type": "code",
        "colab": {
          "base_uri": "https://localhost:8080/",
          "height": 629
        },
        "outputId": "1349c2a5-5ee5-4d15-dada-f4a47688b6db"
      },
      "source": [
        "import pandas as pd\n",
        "import numpy as np\n",
        "from sklearn.model_selection import train_test_split\n",
        "import lightgbm as lgb\n",
        "from sklearn import metrics\n",
        "\n",
        "def haversine(origin, destination):\n",
        "    \"\"\"\n",
        "    Function to calculate the distance between two points\n",
        "    \"\"\"\n",
        "    lon1, lat1, lon2, lat2 = map(np.radians, [iata_dict['lon'][origin], iata_dict['lat'][origin], iata_dict['lon'][destination], iata_dict['lat'][destination]])\n",
        "    dlon = lon2 - lon1\n",
        "    dlat = lat2 - lat1\n",
        "\n",
        "    a = np.sin(dlat/2.0)**2 + np.cos(lat1) * np.cos(lat2) * np.sin(dlon/2.0)**2\n",
        "\n",
        "    c = 2 * np.arcsin(np.sqrt(a))\n",
        "    km = 6367 * c\n",
        "    return km\n",
        "\n",
        "\n",
        "def preprocessing(events, iata):\n",
        "  print('\\n *******Preprocessing Steps*******\\n')\n",
        "  print('No. of missing values in events dataset: \\n', events.isnull().sum())\n",
        "  print('\\nNo. of missing values in iata dataset: \\n', iata.isnull().sum())\n",
        "\n",
        "  # drop rows with null values (if any)\n",
        "  print('\\n Dropping rows with null values')\n",
        "  events.dropna(inplace=True)\n",
        "  iata.dropna(inplace=True)\n",
        "  \n",
        "  # drop duplicate values\n",
        "  print('\\n Dropping rows with duplicate values')\n",
        "  events_copy.drop_duplicates(keep='first', inplace=True)\n",
        "  iata.iata_code.drop_duplicates(keep='first', inplace=True)\n",
        "\n",
        "  # For further use, we will convert iata into a dictionary\n",
        "  iata_dict = iata.set_index('iata_code').to_dict()\n",
        "  \n",
        "  # Add outcome column, \"book\" == 1, search == 0\n",
        "  print('\\n Adding output column with book = 1 and search =0')\n",
        "  events = events.assign(outcome=(events['event_type'] == 'book').astype(int))\n",
        "\n",
        "  # Calling haversine function to create a new column distance\n",
        "  print('\\n Compute the distance between origin and destination using haversine distance formula')\n",
        "  events['distance'] = events.apply(lambda x: haversine(x['origin'], x['destination']), axis = 1)\n",
        "  \n",
        "  # Create new column length of stay(los) and time to travel (ttt)\n",
        "  print('\\n Create los and ttt columns')\n",
        "  events[['ts','date_from', 'date_to']] = events[['ts','date_from','date_to']].apply(pd.to_datetime) #if conversion required\n",
        "  events['ttt'] = (events['date_from'] - events['ts']).dt.days\n",
        "  events['los'] = (events['date_to'] - events['date_from']).dt.days\n",
        "\n",
        "  # Label encode categorical columns\n",
        "  print('\\n Label encode origin and destination columns')\n",
        "  cat_features = ['origin', 'destination']\n",
        "  encoder = LabelEncoder()\n",
        "  encoded = events[cat_features].apply(encoder.fit_transform)\n",
        "\n",
        "  # Since events and encoded have the same index, wecan easily join them\n",
        "  X = events[['num_adults', 'num_children', 'distance', 'ttt', 'los', 'outcome']].join(encoded)\n",
        "  return X\n",
        "\n",
        "def train_model(train, valid):\n",
        "    feature_cols = train.columns.drop('outcome')\n",
        "    \n",
        "    dtrain = lgb.Dataset(train[feature_cols], label=train['outcome'])\n",
        "    dvalid = lgb.Dataset(valid[feature_cols], label=valid['outcome'])\n",
        "\n",
        "    param = {'num_leaves': 8, 'objective': 'binary'}\n",
        "    param['metric'] = 'auc'\n",
        "    num_round = 500\n",
        "    bst = lgb.train(param, dtrain, num_round, valid_sets=[dvalid], early_stopping_rounds=5, verbose_eval=False)\n",
        "\n",
        "    ypred = bst.predict(valid[feature_cols])\n",
        "    score = metrics.roc_auc_score(valid['outcome'], ypred)\n",
        "\n",
        "    print(f\"\\nTest AUC score: {score}\")\n",
        "\n",
        "    return bst\n",
        "\n",
        "def main():\n",
        "    events = pd.read_csv('events_1_1.csv.gz')\n",
        "    iata = pd.read_csv('iata_1_1.csv')\n",
        "\n",
        "    X = preprocessing(events, iata)\n",
        "\n",
        "    # Train the model\n",
        "    print('\\n *******Training the model*******')\n",
        "    train, test = train_test_split(X, test_size=0.33, random_state=42)\n",
        "    model = train_model(train, test)\n",
        "\n",
        "if __name__ == '__main__':\n",
        "    main()"
      ],
      "execution_count": null,
      "outputs": [
        {
          "output_type": "stream",
          "text": [
            "\n",
            " *******Preprocessing Steps*******\n",
            "\n",
            "No. of missing values in events dataset: \n",
            " ts               0\n",
            "event_type       0\n",
            "user_id          0\n",
            "date_from       22\n",
            "date_to          3\n",
            "origin           0\n",
            "destination      0\n",
            "num_adults       0\n",
            "num_children     0\n",
            "dtype: int64\n",
            "\n",
            "No. of missing values in iata dataset: \n",
            " iata_code    0\n",
            "lat          0\n",
            "lon          0\n",
            "dtype: int64\n",
            "\n",
            " Dropping rows with null values\n",
            "\n",
            " Dropping rows with duplicate values\n",
            "\n",
            " Adding output column with book = 1 and search =0\n",
            "\n",
            " Compute the distance between origin and destination using haversine distance formula\n",
            "\n",
            " Create los and ttt columns\n",
            "\n",
            " Label encode origin and destination columns\n",
            "\n",
            " *******Training the model*******\n",
            "\n",
            "Test AUC score: 0.6037677305668645\n"
          ],
          "name": "stdout"
        }
      ]
    },
    {
      "cell_type": "code",
      "metadata": {
        "id": "jyOCoTP_Eumj",
        "colab_type": "code",
        "colab": {}
      },
      "source": [
        ""
      ],
      "execution_count": null,
      "outputs": []
    }
  ]
}